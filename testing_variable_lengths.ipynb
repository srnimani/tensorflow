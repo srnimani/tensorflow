{
  "nbformat": 4,
  "nbformat_minor": 0,
  "metadata": {
    "kernelspec": {
      "name": "python3",
      "display_name": "Python 3"
    },
    "colab": {
      "name": "testing_variable_lengths.ipynb",
      "provenance": [],
      "include_colab_link": true
    },
    "accelerator": "GPU"
  },
  "cells": [
    {
      "cell_type": "markdown",
      "metadata": {
        "id": "view-in-github",
        "colab_type": "text"
      },
      "source": [
        "<a href=\"https://colab.research.google.com/github/srnimani/tensorflow/blob/master/testing_variable_lengths.ipynb\" target=\"_parent\"><img src=\"https://colab.research.google.com/assets/colab-badge.svg\" alt=\"Open In Colab\"/></a>"
      ]
    },
    {
      "cell_type": "code",
      "metadata": {
        "id": "M3n9X1Do_jC9",
        "colab_type": "code",
        "colab": {
          "base_uri": "https://localhost:8080/",
          "height": 62
        },
        "outputId": "7e8767ac-2309-42de-e98c-e0b4b9b8abfa"
      },
      "source": [
        "import tensorflow as tf\n",
        "from tensorflow.keras.models import Sequential\n",
        "from tensorflow.keras.layers import LSTM, Dense, TimeDistributed\n",
        "from tensorflow.keras.utils import to_categorical\n",
        "import numpy as np"
      ],
      "execution_count": 1,
      "outputs": [
        {
          "output_type": "display_data",
          "data": {
            "text/html": [
              "<p style=\"color: red;\">\n",
              "The default version of TensorFlow in Colab will soon switch to TensorFlow 2.x.<br>\n",
              "We recommend you <a href=\"https://www.tensorflow.org/guide/migrate\" target=\"_blank\">upgrade</a> now \n",
              "or ensure your notebook will continue to use TensorFlow 1.x via the <code>%tensorflow_version 1.x</code> magic:\n",
              "<a href=\"https://colab.research.google.com/notebooks/tensorflow_version.ipynb\" target=\"_blank\">more info</a>.</p>\n"
            ],
            "text/plain": [
              "<IPython.core.display.HTML object>"
            ]
          },
          "metadata": {
            "tags": []
          }
        }
      ]
    },
    {
      "cell_type": "code",
      "metadata": {
        "id": "zslOVR6l_jDD",
        "colab_type": "code",
        "colab": {
          "base_uri": "https://localhost:8080/",
          "height": 339
        },
        "outputId": "a0c926b5-10f7-48e7-f777-a69c67df6a90"
      },
      "source": [
        "model = Sequential()\n",
        "\n",
        "model.add(LSTM(32, return_sequences=True, input_shape=(None, 5)))\n",
        "model.add(LSTM(8, return_sequences=True))\n",
        "model.add(TimeDistributed(Dense(2, activation='sigmoid')))\n",
        "\n",
        "print(model.summary(90))\n",
        "\n",
        "model.compile(loss='categorical_crossentropy',\n",
        "              optimizer='adam')"
      ],
      "execution_count": 2,
      "outputs": [
        {
          "output_type": "stream",
          "text": [
            "WARNING:tensorflow:From /usr/local/lib/python3.6/dist-packages/tensorflow_core/python/ops/resource_variable_ops.py:1630: calling BaseResourceVariable.__init__ (from tensorflow.python.ops.resource_variable_ops) with constraint is deprecated and will be removed in a future version.\n",
            "Instructions for updating:\n",
            "If using Keras pass *_constraint arguments to layers.\n",
            "Model: \"sequential\"\n",
            "__________________________________________________________________________________________\n",
            "Layer (type)                            Output Shape                        Param #       \n",
            "==========================================================================================\n",
            "lstm (LSTM)                             (None, None, 32)                    4864          \n",
            "__________________________________________________________________________________________\n",
            "lstm_1 (LSTM)                           (None, None, 8)                     1312          \n",
            "__________________________________________________________________________________________\n",
            "time_distributed (TimeDistributed)      (None, None, 2)                     18            \n",
            "==========================================================================================\n",
            "Total params: 6,194\n",
            "Trainable params: 6,194\n",
            "Non-trainable params: 0\n",
            "__________________________________________________________________________________________\n",
            "None\n"
          ],
          "name": "stdout"
        }
      ]
    },
    {
      "cell_type": "code",
      "metadata": {
        "id": "Hkg8XiDz_jDH",
        "colab_type": "code",
        "colab": {}
      },
      "source": [
        "def train_generator():\n",
        "    while True:\n",
        "        sequence_length = np.random.randint(10, 100)\n",
        "        x_train = np.random.random((1000, sequence_length, 5))\n",
        "        # y_train will depend on past 5 timesteps of x\n",
        "        y_train = x_train[:, :, 0]\n",
        "        for i in range(1, 5):\n",
        "            y_train[:, i:] += x_train[:, :-i, i]\n",
        "        y_train = to_categorical(y_train > 2.5)\n",
        "        yield x_train, y_train\n",
        "\n"
      ],
      "execution_count": 0,
      "outputs": []
    },
    {
      "cell_type": "code",
      "metadata": {
        "id": "bKY_VRc-_jDK",
        "colab_type": "code",
        "colab": {
          "base_uri": "https://localhost:8080/",
          "height": 440
        },
        "outputId": "649ab692-39d5-4489-ed66-8e654c2e163d"
      },
      "source": [
        "model.fit_generator(train_generator(), steps_per_epoch=30, epochs=10, verbose=1)"
      ],
      "execution_count": 4,
      "outputs": [
        {
          "output_type": "stream",
          "text": [
            "Epoch 1/10\n",
            "WARNING:tensorflow:From /usr/local/lib/python3.6/dist-packages/tensorflow_core/python/ops/math_grad.py:1424: where (from tensorflow.python.ops.array_ops) is deprecated and will be removed in a future version.\n",
            "Instructions for updating:\n",
            "Use tf.where in 2.0, which has the same broadcast rule as np.where\n",
            "30/30 [==============================] - 15s 511ms/step - loss: 0.6883\n",
            "Epoch 2/10\n",
            "30/30 [==============================] - 5s 170ms/step - loss: 0.6671\n",
            "Epoch 3/10\n",
            "30/30 [==============================] - 5s 164ms/step - loss: 0.5897\n",
            "Epoch 4/10\n",
            "30/30 [==============================] - 6s 198ms/step - loss: 0.4216\n",
            "Epoch 5/10\n",
            "30/30 [==============================] - 6s 189ms/step - loss: 0.3198\n",
            "Epoch 6/10\n",
            "30/30 [==============================] - 5s 150ms/step - loss: 0.2555\n",
            "Epoch 7/10\n",
            "30/30 [==============================] - 5s 164ms/step - loss: 0.2106\n",
            "Epoch 8/10\n",
            "30/30 [==============================] - 5s 172ms/step - loss: 0.1778\n",
            "Epoch 9/10\n",
            "30/30 [==============================] - 5s 167ms/step - loss: 0.1534\n",
            "Epoch 10/10\n",
            "30/30 [==============================] - 5s 165ms/step - loss: 0.1338\n"
          ],
          "name": "stdout"
        },
        {
          "output_type": "execute_result",
          "data": {
            "text/plain": [
              "<tensorflow.python.keras.callbacks.History at 0x7ff549ba3ac8>"
            ]
          },
          "metadata": {
            "tags": []
          },
          "execution_count": 4
        }
      ]
    },
    {
      "cell_type": "code",
      "metadata": {
        "id": "hNhwy5j__jDO",
        "colab_type": "code",
        "colab": {}
      },
      "source": [
        ""
      ],
      "execution_count": 0,
      "outputs": []
    }
  ]
}